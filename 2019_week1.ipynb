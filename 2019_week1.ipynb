{
 "cells": [
  {
   "cell_type": "code",
   "execution_count": 7,
   "metadata": {},
   "outputs": [
    {
     "name": "stdout",
     "output_type": "stream",
     "text": [
      "3235550\n",
      "4850462\n"
     ]
    }
   ],
   "source": [
    "# Day 1, part 1\n",
    "\n",
    "with open(r'C:\\Users\\david\\Documents\\advent_of_code\\input1_1.txt','r') as infile:\n",
    "    l = [int(line) for line in infile.readlines()]\n",
    "    \n",
    "\n",
    "fuel = [max(0,mass//3 - 2) for mass in l]\n",
    "print(sum(fuel))\n",
    "\n",
    "#Day 1, part 2\n",
    "total_fuel = sum(fuel)\n",
    "while sum(fuel) > 0:\n",
    "    fuel = [max(0,mass//3 - 2) for mass in fuel]\n",
    "    total_fuel += sum(fuel)\n",
    "\n",
    "print(total_fuel)"
   ]
  },
  {
   "cell_type": "code",
   "execution_count": 34,
   "metadata": {},
   "outputs": [
    {
     "name": "stdout",
     "output_type": "stream",
     "text": [
      "4576384\n",
      "5398\n"
     ]
    }
   ],
   "source": [
    "# Day 2, part 1\n",
    "\n",
    "import csv\n",
    "import copy\n",
    "\n",
    "def run_intcode(intcode):\n",
    "    mem=copy.copy(intcode)\n",
    "    i=0\n",
    "    while i < len(mem):\n",
    "        if mem[i] == 1:\n",
    "            mem[mem[i+3]]=mem[mem[i+1]]+mem[mem[i+2]]\n",
    "            i+=4\n",
    "        elif mem[i] == 2:\n",
    "            mem[mem[i+3]]=mem[mem[i+1]]*mem[mem[i+2]]\n",
    "            i+=4\n",
    "        elif mem[i] == 99:\n",
    "            i+=1 #just in case so we don't infinite loop\n",
    "            break\n",
    "        else:\n",
    "            #print(intcode[i])\n",
    "            raise Exception(\"unknown opcode\")\n",
    "    return mem\n",
    "\n",
    "assert run_intcode([1,0,0,0,99]) == [2,0,0,0,99]\n",
    "assert run_intcode([2,3,0,3,99]) == [2,3,0,6,99]\n",
    "assert run_intcode([2,4,4,5,99,0]) == [2,4,4,5,99,9801]\n",
    "assert run_intcode([1,1,1,4,99,5,6,0,99]) == [30,1,1,4,2,5,6,0,99]\n",
    "\n",
    "with open(r'C:\\Users\\david\\Documents\\advent_of_code\\input2_1.txt','r') as infile:\n",
    "    reader = csv.reader(infile,delimiter=',')\n",
    "    for row in reader:\n",
    "        intcode=[int(r) for r in row]\n",
    "\n",
    "modified_code=copy.copy(intcode)\n",
    "modified_code[1]=12\n",
    "modified_code[2]=2\n",
    "processed_code = run_intcode(modified_code)\n",
    "print(processed_code[0])\n",
    "\n",
    "#Day 2, Part 2\n",
    "\n",
    "target_output=19690720\n",
    "\n",
    "for x in range(0,100):\n",
    "    for y in range(0,100):\n",
    "        modified_code=intcode\n",
    "        modified_code[1]=x\n",
    "        modified_code[2]=y\n",
    "        try:\n",
    "            processed_code = run_intcode(modified_code)\n",
    "        except:\n",
    "            processed_code=[0]\n",
    "        if processed_code[0] == target_output:\n",
    "            break\n",
    "    if processed_code[0] == target_output:\n",
    "            break\n",
    "\n",
    "print(100*x + y)"
   ]
  },
  {
   "cell_type": "code",
   "execution_count": null,
   "metadata": {},
   "outputs": [],
   "source": []
  }
 ],
 "metadata": {
  "kernelspec": {
   "display_name": "Python 3",
   "language": "python",
   "name": "python3"
  },
  "language_info": {
   "codemirror_mode": {
    "name": "ipython",
    "version": 3
   },
   "file_extension": ".py",
   "mimetype": "text/x-python",
   "name": "python",
   "nbconvert_exporter": "python",
   "pygments_lexer": "ipython3",
   "version": "3.7.0"
  }
 },
 "nbformat": 4,
 "nbformat_minor": 2
}
